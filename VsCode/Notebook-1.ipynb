{
 "cells": [
  {
   "cell_type": "code",
   "execution_count": null,
   "id": "8b5c8ce9",
   "metadata": {},
   "outputs": [
    {
     "name": "stdout",
     "output_type": "stream",
     "text": [
      "Python路径: f:\\ChuangYe\\Anaconda3\\envs\\my_ai\\python.exe\n",
      "Python路径: ['f:\\\\ChuangYe\\\\Anaconda3\\\\envs\\\\my_ai\\\\python310.zip', 'f:\\\\ChuangYe\\\\Anaconda3\\\\envs\\\\my_ai\\\\DLLs', 'f:\\\\ChuangYe\\\\Anaconda3\\\\envs\\\\my_ai\\\\lib', 'f:\\\\ChuangYe\\\\Anaconda3\\\\envs\\\\my_ai', '', 'f:\\\\ChuangYe\\\\Anaconda3\\\\envs\\\\my_ai\\\\lib\\\\site-packages', 'f:\\\\ChuangYe\\\\Anaconda3\\\\envs\\\\my_ai\\\\lib\\\\site-packages\\\\win32', 'f:\\\\ChuangYe\\\\Anaconda3\\\\envs\\\\my_ai\\\\lib\\\\site-packages\\\\win32\\\\lib', 'f:\\\\ChuangYe\\\\Anaconda3\\\\envs\\\\my_ai\\\\lib\\\\site-packages\\\\Pythonwin']\n",
      "Python平台: win32\n",
      "Python版本: 3.10.18 | packaged by Anaconda, Inc. | (main, Jun  5 2025, 13:08:55) [MSC v.1929 64 bit (AMD64)]\n",
      "Python环境: f:\\ChuangYe\\Anaconda3\\envs\\my_ai\n",
      "Python环境: f:\\ChuangYe\\Anaconda3\\envs\\my_ai\n",
      "GPU是否可用: True\n"
     ]
    }
   ],
   "source": [
    "# %% [markdown]  （这是Jupyter单元格标记）\n",
    "# 验证环境是否配置正确\n",
    "\n",
    "# %% [code]\n",
    "'''\n",
    "    import sys 的功能是导入 Python 的内置模块 \n",
    "    sys ，该模块提供了访问解释器相关变量和函数的功能，例如获取命令行参数、操作路径等。\n",
    "'''\n",
    "# 导入系统模块\n",
    "import sys\n",
    "\n",
    "# 应显示my_ai环境的python\n",
    "print(\"Python路径:\", sys.executable)\n",
    "\n",
    "# 显示路径\n",
    "print(\"Python路径:\", sys.path)\n",
    "\n",
    "# 显示平台\n",
    "print(\"Python平台:\", sys.platform)\n",
    "\n",
    "# 显示版本\n",
    "print(\"Python版本:\", sys.version)\n",
    "\n",
    "# 显示环境\n",
    "print(\"Python环境:\", sys.prefix)\n",
    "\n",
    "# 显示基础环境\n",
    "print(\"Python环境:\", sys.base_prefix)\n",
    "\n",
    "# 导入 PyTorch 模块\n",
    "import torch\n",
    "\n",
    "print(\"GPU是否可用:\", torch.cuda.is_available())\n",
    "\n",
    "\n",
    "\n"
   ]
  }
 ],
 "metadata": {
  "kernelspec": {
   "display_name": "my_ai",
   "language": "python",
   "name": "python3"
  },
  "language_info": {
   "codemirror_mode": {
    "name": "ipython",
    "version": 3
   },
   "file_extension": ".py",
   "mimetype": "text/x-python",
   "name": "python",
   "nbconvert_exporter": "python",
   "pygments_lexer": "ipython3",
   "version": "3.10.18"
  }
 },
 "nbformat": 4,
 "nbformat_minor": 5
}
